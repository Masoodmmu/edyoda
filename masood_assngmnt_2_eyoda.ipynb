{
 "cells": [
  {
   "cell_type": "markdown",
   "id": "fd7ebb10",
   "metadata": {},
   "source": [
    "Write a Python program ---->\n",
    "\n",
    "\n",
    "\n",
    "step 1: create a list L1 = [1,2,3,4,5]\n",
    "\n",
    "\n",
    "\n",
    "step 2 : use L1 to make a list of tuples like below:\n",
    "\n",
    "\n",
    "\n",
    "\n",
    "\n",
    "Expected Result : [(1, 1), (2, 4), (3, 9), (4, 16), (5, 25)]\n",
    "\n"
   ]
  },
  {
   "cell_type": "code",
   "execution_count": 81,
   "id": "8ce507fe",
   "metadata": {},
   "outputs": [
    {
     "name": "stdout",
     "output_type": "stream",
     "text": [
      "[(1, 1), (2, 4)]\n",
      "[(1, 1), (2, 4), (3, 9)]\n",
      "[(1, 1), (2, 4), (3, 9), (4, 16)]\n",
      "[(1, 1), (2, 4), (3, 9), (4, 16), (5, 25)]\n"
     ]
    }
   ],
   "source": [
    "l1=[1,2,3,4,5]\n",
    "l2=[]\n",
    "l3=[(1,1)]\n",
    "for i in l1:\n",
    "    if i==i*i:\n",
    "            continue\n",
    "    else:\n",
    "        l2=(i, i*i)\n",
    "        l3.append(l2)\n",
    "        print(l3)\n",
    "        \n",
    "        "
   ]
  },
  {
   "cell_type": "markdown",
   "id": "bc0bdeb9",
   "metadata": {},
   "source": []
  },
  {
   "cell_type": "code",
   "execution_count": null,
   "id": "592a6701",
   "metadata": {},
   "outputs": [],
   "source": []
  }
 ],
 "metadata": {
  "kernelspec": {
   "display_name": "Python 3 (ipykernel)",
   "language": "python",
   "name": "python3"
  },
  "language_info": {
   "codemirror_mode": {
    "name": "ipython",
    "version": 3
   },
   "file_extension": ".py",
   "mimetype": "text/x-python",
   "name": "python",
   "nbconvert_exporter": "python",
   "pygments_lexer": "ipython3",
   "version": "3.10.1"
  }
 },
 "nbformat": 4,
 "nbformat_minor": 5
}
