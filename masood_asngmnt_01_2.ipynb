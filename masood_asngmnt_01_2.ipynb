{
 "cells": [
  {
   "cell_type": "markdown",
   "id": "3925d767",
   "metadata": {},
   "source": [
    "##Write a Python program to count the number of even and odd numbers from a series of numbers"
   ]
  },
  {
   "cell_type": "code",
   "execution_count": null,
   "id": "2dadc480",
   "metadata": {},
   "outputs": [],
   "source": [
    "#ample numbers : numbers = (1, 2, 3, 4, 5, 6, 7, 8, 9) \n",
    "\n",
    "#Expected Output :\n",
    "\n",
    "#Number of even numbers : 4\n",
    "\n",
    "#Number of odd numbers : 5\n"
   ]
  },
  {
   "cell_type": "code",
   "execution_count": 18,
   "id": "35ab10b3",
   "metadata": {},
   "outputs": [
    {
     "name": "stdout",
     "output_type": "stream",
     "text": [
      "even numbers in l1 : 4\n",
      "odd numbers in l1 : 5\n"
     ]
    }
   ],
   "source": [
    "l1=[1,2,3,4,5,6,7,8,9]\n",
    "odd=0\n",
    "even=0\n",
    "for x in l1:\n",
    "    if x%2==0:\n",
    "        even += 1   \n",
    "    else:\n",
    "        odd += 1   \n",
    "print('even numbers in l1 :', even)\n",
    "print('odd numbers in l1 :', odd)"
   ]
  },
  {
   "cell_type": "code",
   "execution_count": null,
   "id": "81530d2d",
   "metadata": {},
   "outputs": [],
   "source": []
  }
 ],
 "metadata": {
  "kernelspec": {
   "display_name": "Python 3 (ipykernel)",
   "language": "python",
   "name": "python3"
  },
  "language_info": {
   "codemirror_mode": {
    "name": "ipython",
    "version": 3
   },
   "file_extension": ".py",
   "mimetype": "text/x-python",
   "name": "python",
   "nbconvert_exporter": "python",
   "pygments_lexer": "ipython3",
   "version": "3.10.1"
  }
 },
 "nbformat": 4,
 "nbformat_minor": 5
}
