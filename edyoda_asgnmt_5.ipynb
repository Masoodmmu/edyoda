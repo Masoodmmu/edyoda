{
 "cells": [
  {
   "cell_type": "markdown",
   "id": "a487375a",
   "metadata": {},
   "source": [
    "Write a Python class to implement pow(x, n)\n",
    "\n",
    "\n",
    "\n",
    "Explanation:\n",
    "\n",
    "Use should be able to find the nth power of the x.(i.e x*x*x*x...n times)\n",
    "\n",
    "You must implement it using Class\n",
    "\n",
    "\n",
    "\n",
    "Sample Input:\n",
    "\n",
    "x: 10\n",
    "\n",
    "n: 2"
   ]
  },
  {
   "cell_type": "code",
   "execution_count": 5,
   "id": "bdc91f03",
   "metadata": {},
   "outputs": [
    {
     "name": "stdout",
     "output_type": "stream",
     "text": [
      "enter num x: 10\n",
      "enter num n: 2\n",
      "2 th power of 10 : 100\n"
     ]
    }
   ],
   "source": [
    "class power:\n",
    "    def __init__(self,x,n):\n",
    "        self.x= int(input(\"enter num x: \"))\n",
    "        self.n= int(input(\"enter num n: \"))\n",
    "        \n",
    "    def nthpow(self):\n",
    "        print(self.n,\"th power of\", self.x ,\":\", self.x**self.n)\n",
    "ob=power(\"x\",\"n\")\n",
    "ob.nthpow()"
   ]
  },
  {
   "cell_type": "code",
   "execution_count": null,
   "id": "d2234af4",
   "metadata": {},
   "outputs": [],
   "source": []
  },
  {
   "cell_type": "code",
   "execution_count": null,
   "id": "8d64f652",
   "metadata": {},
   "outputs": [],
   "source": []
  }
 ],
 "metadata": {
  "kernelspec": {
   "display_name": "Python 3 (ipykernel)",
   "language": "python",
   "name": "python3"
  },
  "language_info": {
   "codemirror_mode": {
    "name": "ipython",
    "version": 3
   },
   "file_extension": ".py",
   "mimetype": "text/x-python",
   "name": "python",
   "nbconvert_exporter": "python",
   "pygments_lexer": "ipython3",
   "version": "3.10.1"
  }
 },
 "nbformat": 4,
 "nbformat_minor": 5
}
