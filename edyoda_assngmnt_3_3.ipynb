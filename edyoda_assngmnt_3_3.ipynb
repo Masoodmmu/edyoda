{
 "cells": [
  {
   "cell_type": "markdown",
   "id": "0cc367a9",
   "metadata": {},
   "source": [
    "Write a Python function that accepts a string and calculate the number of upper case letters and lower case letters.\n",
    "\n",
    "\n",
    "\n",
    "﻿Sample String : 'The quick Brow Fox'\n",
    "\n",
    "Expected Output :\n",
    "\n",
    "No. of Upper case characters : 3\n",
    "\n",
    "No. of Lower case Characters : 12"
   ]
  },
  {
   "cell_type": "code",
   "execution_count": 48,
   "id": "9251d9d0",
   "metadata": {},
   "outputs": [
    {
     "name": "stdout",
     "output_type": "stream",
     "text": [
      "No of upper case char: 3 No of lower case char: 15\n"
     ]
    }
   ],
   "source": [
    "s = 'The quick Brow Fox'\n",
    "def up_low(s):\n",
    "    u, l = [], []\n",
    "    for a in s:\n",
    "        if a.isupper():\n",
    "            u.append(a)\n",
    "        else:\n",
    "            l.append(a)\n",
    "    print('No of upper case char:',len(u),'No of lower case char:', len(l))\n",
    "up_low(s)"
   ]
  },
  {
   "cell_type": "code",
   "execution_count": null,
   "id": "87bf82dc",
   "metadata": {},
   "outputs": [],
   "source": []
  }
 ],
 "metadata": {
  "kernelspec": {
   "display_name": "Python 3 (ipykernel)",
   "language": "python",
   "name": "python3"
  },
  "language_info": {
   "codemirror_mode": {
    "name": "ipython",
    "version": 3
   },
   "file_extension": ".py",
   "mimetype": "text/x-python",
   "name": "python",
   "nbconvert_exporter": "python",
   "pygments_lexer": "ipython3",
   "version": "3.10.1"
  }
 },
 "nbformat": 4,
 "nbformat_minor": 5
}
