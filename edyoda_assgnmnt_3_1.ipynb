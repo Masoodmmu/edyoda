{
 "cells": [
  {
   "cell_type": "markdown",
   "id": "c4b70133",
   "metadata": {},
   "source": [
    "Write a Python function to sum all the numbers in a list.\n",
    "\n",
    "\n",
    "\n",
    "Sample List : [8, 2, 3, 0, 7]\n",
    "\n",
    "Expected Output : 20\n",
    "\n",
    "\n",
    "\n",
    "Explanation:\n",
    "\n",
    "\n",
    "\n",
    "Summation should like 8+2+3+0+7 = 20"
   ]
  },
  {
   "cell_type": "code",
   "execution_count": 22,
   "id": "af9ca7bf",
   "metadata": {},
   "outputs": [
    {
     "name": "stdout",
     "output_type": "stream",
     "text": [
      "summation of all the elements in the list L [8+2+3+0+7] = 20\n"
     ]
    }
   ],
   "source": [
    "L = [8,2,3,0,7]\n",
    "def sum_L():\n",
    "    for i in L:\n",
    "        i= sum(L)\n",
    "    print('summation of all the elements in the list L [8+2+3+0+7] =', i)\n",
    "sum_L()\n",
    "    "
   ]
  },
  {
   "cell_type": "code",
   "execution_count": null,
   "id": "d324d19c",
   "metadata": {},
   "outputs": [],
   "source": []
  }
 ],
 "metadata": {
  "kernelspec": {
   "display_name": "Python 3 (ipykernel)",
   "language": "python",
   "name": "python3"
  },
  "language_info": {
   "codemirror_mode": {
    "name": "ipython",
    "version": 3
   },
   "file_extension": ".py",
   "mimetype": "text/x-python",
   "name": "python",
   "nbconvert_exporter": "python",
   "pygments_lexer": "ipython3",
   "version": "3.10.1"
  }
 },
 "nbformat": 4,
 "nbformat_minor": 5
}
