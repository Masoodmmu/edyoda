{
 "cells": [
  {
   "cell_type": "code",
   "execution_count": 4,
   "id": "11c8f0df",
   "metadata": {},
   "outputs": [
    {
     "name": "stdout",
     "output_type": "stream",
     "text": [
      "enter the name to reversedatascientist\n",
      "tsitneicsatad\n"
     ]
    }
   ],
   "source": [
    "name= input('enter the name to reverse')\n",
    "l1=list(name)\n",
    "l1.reverse()\n",
    "print(''.join(l1))"
   ]
  },
  {
   "cell_type": "code",
   "execution_count": null,
   "id": "e6cc571c",
   "metadata": {},
   "outputs": [],
   "source": []
  }
 ],
 "metadata": {
  "kernelspec": {
   "display_name": "Python 3 (ipykernel)",
   "language": "python",
   "name": "python3"
  },
  "language_info": {
   "codemirror_mode": {
    "name": "ipython",
    "version": 3
   },
   "file_extension": ".py",
   "mimetype": "text/x-python",
   "name": "python",
   "nbconvert_exporter": "python",
   "pygments_lexer": "ipython3",
   "version": "3.10.1"
  }
 },
 "nbformat": 4,
 "nbformat_minor": 5
}
